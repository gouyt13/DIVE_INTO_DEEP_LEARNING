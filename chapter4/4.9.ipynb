{
 "metadata": {
  "language_info": {
   "codemirror_mode": {
    "name": "ipython",
    "version": 3
   },
   "file_extension": ".py",
   "mimetype": "text/x-python",
   "name": "python",
   "nbconvert_exporter": "python",
   "pygments_lexer": "ipython3",
   "version": 3
  },
  "orig_nbformat": 2
 },
 "nbformat": 4,
 "nbformat_minor": 2,
 "cells": [
  {
   "source": [
    "# 分布偏移的类型"
   ],
   "cell_type": "markdown",
   "metadata": {}
  },
  {
   "source": [
    "# 分布偏移示例"
   ],
   "cell_type": "markdown",
   "metadata": {}
  },
  {
   "source": [
    "# 分布偏移纠正"
   ],
   "cell_type": "markdown",
   "metadata": {}
  },
  {
   "source": [
    "# 学习问题的分类法"
   ],
   "cell_type": "markdown",
   "metadata": {}
  },
  {
   "cell_type": "code",
   "execution_count": null,
   "metadata": {},
   "outputs": [],
   "source": []
  }
 ]
}