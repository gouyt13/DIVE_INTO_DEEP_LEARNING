{
 "metadata": {
  "language_info": {
   "codemirror_mode": {
    "name": "ipython",
    "version": 3
   },
   "file_extension": ".py",
   "mimetype": "text/x-python",
   "name": "python",
   "nbconvert_exporter": "python",
   "pygments_lexer": "ipython3",
   "version": "3.8.10"
  },
  "orig_nbformat": 2,
  "kernelspec": {
   "name": "python3810jvsc74a57bd082b6f5812ea506d741ac7a355c38975a8264e75987c5404f7effc78bc7e6db28",
   "display_name": "Python 3.8.10 64-bit ('d2l': conda)"
  }
 },
 "nbformat": 4,
 "nbformat_minor": 2,
 "cells": [
  {
   "source": [
    "# 分类问题"
   ],
   "cell_type": "markdown",
   "metadata": {}
  },
  {
   "source": [
    "# 网络结构"
   ],
   "cell_type": "markdown",
   "metadata": {}
  },
  {
   "source": [
    "# 全连接层的参数开销"
   ],
   "cell_type": "markdown",
   "metadata": {}
  },
  {
   "source": [
    "# softmax运算"
   ],
   "cell_type": "markdown",
   "metadata": {}
  },
  {
   "source": [
    "# 小批量样本的矢量化"
   ],
   "cell_type": "markdown",
   "metadata": {}
  },
  {
   "source": [
    "# 损失函数"
   ],
   "cell_type": "markdown",
   "metadata": {}
  },
  {
   "source": [
    "# 信息论基础"
   ],
   "cell_type": "markdown",
   "metadata": {}
  },
  {
   "source": [
    "# 模型预测和评估"
   ],
   "cell_type": "markdown",
   "metadata": {}
  },
  {
   "cell_type": "code",
   "execution_count": null,
   "metadata": {},
   "outputs": [],
   "source": []
  }
 ]
}